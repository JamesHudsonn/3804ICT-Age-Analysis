{
 "cells": [
  {
   "cell_type": "code",
   "execution_count": 2,
   "metadata": {},
   "outputs": [],
   "source": [
    "import pandas as pd\n",
    "import numpy as np\n",
    "import matplotlib.pyplot as plt\n",
    "from sklearn.model_selection import train_test_split\n",
    "from sklearn.tree import DecisionTreeClassifier"
   ]
  },
  {
   "cell_type": "code",
   "execution_count": 3,
   "metadata": {},
   "outputs": [
    {
     "data": {
      "text/html": [
       "<div>\n",
       "<style scoped>\n",
       "    .dataframe tbody tr th:only-of-type {\n",
       "        vertical-align: middle;\n",
       "    }\n",
       "\n",
       "    .dataframe tbody tr th {\n",
       "        vertical-align: top;\n",
       "    }\n",
       "\n",
       "    .dataframe thead th {\n",
       "        text-align: right;\n",
       "    }\n",
       "</style>\n",
       "<table border=\"1\" class=\"dataframe\">\n",
       "  <thead>\n",
       "    <tr style=\"text-align: right;\">\n",
       "      <th></th>\n",
       "      <th>Unnamed: 0</th>\n",
       "      <th>Id</th>\n",
       "      <th>Name</th>\n",
       "      <th>Gender</th>\n",
       "      <th>Occupation</th>\n",
       "      <th>Birth year</th>\n",
       "      <th>Death year</th>\n",
       "      <th>Manner of death</th>\n",
       "      <th>Age of death</th>\n",
       "      <th>Associated Countries</th>\n",
       "      <th>Associated Country Life Expectancy</th>\n",
       "    </tr>\n",
       "  </thead>\n",
       "  <tbody>\n",
       "    <tr>\n",
       "      <th>0</th>\n",
       "      <td>1</td>\n",
       "      <td>Q42</td>\n",
       "      <td>douglas adams</td>\n",
       "      <td>male</td>\n",
       "      <td>artist</td>\n",
       "      <td>1952</td>\n",
       "      <td>2001</td>\n",
       "      <td>natural causes</td>\n",
       "      <td>49</td>\n",
       "      <td>united kingdom</td>\n",
       "      <td>[81.3]</td>\n",
       "    </tr>\n",
       "    <tr>\n",
       "      <th>1</th>\n",
       "      <td>2</td>\n",
       "      <td>Q91</td>\n",
       "      <td>abraham lincoln</td>\n",
       "      <td>male</td>\n",
       "      <td>politician</td>\n",
       "      <td>1809</td>\n",
       "      <td>1865</td>\n",
       "      <td>homicide</td>\n",
       "      <td>56</td>\n",
       "      <td>united states</td>\n",
       "      <td>[78.5]</td>\n",
       "    </tr>\n",
       "    <tr>\n",
       "      <th>2</th>\n",
       "      <td>6</td>\n",
       "      <td>Q272</td>\n",
       "      <td>paul morand</td>\n",
       "      <td>male</td>\n",
       "      <td>artist</td>\n",
       "      <td>1888</td>\n",
       "      <td>1976</td>\n",
       "      <td>NaN</td>\n",
       "      <td>88</td>\n",
       "      <td>france</td>\n",
       "      <td>[82.5]</td>\n",
       "    </tr>\n",
       "    <tr>\n",
       "      <th>3</th>\n",
       "      <td>7</td>\n",
       "      <td>Q296</td>\n",
       "      <td>claude monet</td>\n",
       "      <td>male</td>\n",
       "      <td>artist</td>\n",
       "      <td>1840</td>\n",
       "      <td>1926</td>\n",
       "      <td>natural causes</td>\n",
       "      <td>86</td>\n",
       "      <td>france</td>\n",
       "      <td>[82.5]</td>\n",
       "    </tr>\n",
       "    <tr>\n",
       "      <th>4</th>\n",
       "      <td>10</td>\n",
       "      <td>Q303</td>\n",
       "      <td>elvis presley</td>\n",
       "      <td>male</td>\n",
       "      <td>artist</td>\n",
       "      <td>1935</td>\n",
       "      <td>1977</td>\n",
       "      <td>natural causes</td>\n",
       "      <td>42</td>\n",
       "      <td>united states</td>\n",
       "      <td>[78.5]</td>\n",
       "    </tr>\n",
       "  </tbody>\n",
       "</table>\n",
       "</div>"
      ],
      "text/plain": [
       "   Unnamed: 0    Id             Name Gender  Occupation  Birth year  \\\n",
       "0           1   Q42    douglas adams   male      artist        1952   \n",
       "1           2   Q91  abraham lincoln   male  politician        1809   \n",
       "2           6  Q272      paul morand   male      artist        1888   \n",
       "3           7  Q296     claude monet   male      artist        1840   \n",
       "4          10  Q303    elvis presley   male      artist        1935   \n",
       "\n",
       "   Death year Manner of death  Age of death Associated Countries  \\\n",
       "0        2001  natural causes            49       united kingdom   \n",
       "1        1865        homicide            56        united states   \n",
       "2        1976             NaN            88               france   \n",
       "3        1926  natural causes            86               france   \n",
       "4        1977  natural causes            42        united states   \n",
       "\n",
       "  Associated Country Life Expectancy  \n",
       "0                             [81.3]  \n",
       "1                             [78.5]  \n",
       "2                             [82.5]  \n",
       "3                             [82.5]  \n",
       "4                             [78.5]  "
      ]
     },
     "execution_count": 3,
     "metadata": {},
     "output_type": "execute_result"
    }
   ],
   "source": [
    "df = pd.read_csv(\"preprocessed_age.csv\")\n",
    "df.head()\n"
   ]
  },
  {
   "cell_type": "code",
   "execution_count": 4,
   "metadata": {},
   "outputs": [],
   "source": [
    "# James H\n",
    "# split data into training and testing\n",
    "\n",
    "# train model\n",
    "\n",
    "# test model\n",
    "\n",
    "# plot results\n",
    "\n",
    "# compare version of algorithms"
   ]
  },
  {
   "cell_type": "code",
   "execution_count": 5,
   "metadata": {},
   "outputs": [
    {
     "name": "stdout",
     "output_type": "stream",
     "text": [
      "Associated Country Life Expectancy\n"
     ]
    }
   ],
   "source": [
    "print(df.columns[-1])"
   ]
  },
  {
   "cell_type": "code",
   "execution_count": 37,
   "metadata": {},
   "outputs": [],
   "source": [
    "from sklearn.preprocessing import LabelEncoder\n",
    "from sklearn.metrics import accuracy_score\n",
    "from sklearn.metrics import confusion_matrix\n",
    "from sklearn.metrics import precision_score"
   ]
  },
  {
   "cell_type": "code",
   "execution_count": 7,
   "metadata": {},
   "outputs": [
    {
     "data": {
      "text/html": [
       "<div>\n",
       "<style scoped>\n",
       "    .dataframe tbody tr th:only-of-type {\n",
       "        vertical-align: middle;\n",
       "    }\n",
       "\n",
       "    .dataframe tbody tr th {\n",
       "        vertical-align: top;\n",
       "    }\n",
       "\n",
       "    .dataframe thead th {\n",
       "        text-align: right;\n",
       "    }\n",
       "</style>\n",
       "<table border=\"1\" class=\"dataframe\">\n",
       "  <thead>\n",
       "    <tr style=\"text-align: right;\">\n",
       "      <th></th>\n",
       "      <th>Unnamed: 0</th>\n",
       "      <th>Id</th>\n",
       "      <th>Name</th>\n",
       "      <th>Gender</th>\n",
       "      <th>Occupation</th>\n",
       "      <th>Birth year</th>\n",
       "      <th>Death year</th>\n",
       "      <th>Manner of death</th>\n",
       "      <th>Age of death</th>\n",
       "      <th>Associated Countries</th>\n",
       "      <th>Associated Country Life Expectancy</th>\n",
       "    </tr>\n",
       "  </thead>\n",
       "  <tbody>\n",
       "    <tr>\n",
       "      <th>0</th>\n",
       "      <td>1</td>\n",
       "      <td>Q42</td>\n",
       "      <td>douglas adams</td>\n",
       "      <td>male</td>\n",
       "      <td>artist</td>\n",
       "      <td>1952</td>\n",
       "      <td>2001</td>\n",
       "      <td>natural causes</td>\n",
       "      <td>49</td>\n",
       "      <td>united kingdom</td>\n",
       "      <td>[81.3]</td>\n",
       "    </tr>\n",
       "    <tr>\n",
       "      <th>1</th>\n",
       "      <td>2</td>\n",
       "      <td>Q91</td>\n",
       "      <td>abraham lincoln</td>\n",
       "      <td>male</td>\n",
       "      <td>politician</td>\n",
       "      <td>1809</td>\n",
       "      <td>1865</td>\n",
       "      <td>homicide</td>\n",
       "      <td>56</td>\n",
       "      <td>united states</td>\n",
       "      <td>[78.5]</td>\n",
       "    </tr>\n",
       "    <tr>\n",
       "      <th>2</th>\n",
       "      <td>6</td>\n",
       "      <td>Q272</td>\n",
       "      <td>paul morand</td>\n",
       "      <td>male</td>\n",
       "      <td>artist</td>\n",
       "      <td>1888</td>\n",
       "      <td>1976</td>\n",
       "      <td>NaN</td>\n",
       "      <td>88</td>\n",
       "      <td>france</td>\n",
       "      <td>[82.5]</td>\n",
       "    </tr>\n",
       "    <tr>\n",
       "      <th>3</th>\n",
       "      <td>7</td>\n",
       "      <td>Q296</td>\n",
       "      <td>claude monet</td>\n",
       "      <td>male</td>\n",
       "      <td>artist</td>\n",
       "      <td>1840</td>\n",
       "      <td>1926</td>\n",
       "      <td>natural causes</td>\n",
       "      <td>86</td>\n",
       "      <td>france</td>\n",
       "      <td>[82.5]</td>\n",
       "    </tr>\n",
       "    <tr>\n",
       "      <th>4</th>\n",
       "      <td>10</td>\n",
       "      <td>Q303</td>\n",
       "      <td>elvis presley</td>\n",
       "      <td>male</td>\n",
       "      <td>artist</td>\n",
       "      <td>1935</td>\n",
       "      <td>1977</td>\n",
       "      <td>natural causes</td>\n",
       "      <td>42</td>\n",
       "      <td>united states</td>\n",
       "      <td>[78.5]</td>\n",
       "    </tr>\n",
       "  </tbody>\n",
       "</table>\n",
       "</div>"
      ],
      "text/plain": [
       "   Unnamed: 0    Id             Name Gender  Occupation  Birth year  \\\n",
       "0           1   Q42    douglas adams   male      artist        1952   \n",
       "1           2   Q91  abraham lincoln   male  politician        1809   \n",
       "2           6  Q272      paul morand   male      artist        1888   \n",
       "3           7  Q296     claude monet   male      artist        1840   \n",
       "4          10  Q303    elvis presley   male      artist        1935   \n",
       "\n",
       "   Death year Manner of death  Age of death Associated Countries  \\\n",
       "0        2001  natural causes            49       united kingdom   \n",
       "1        1865        homicide            56        united states   \n",
       "2        1976             NaN            88               france   \n",
       "3        1926  natural causes            86               france   \n",
       "4        1977  natural causes            42        united states   \n",
       "\n",
       "  Associated Country Life Expectancy  \n",
       "0                             [81.3]  \n",
       "1                             [78.5]  \n",
       "2                             [82.5]  \n",
       "3                             [82.5]  \n",
       "4                             [78.5]  "
      ]
     },
     "execution_count": 7,
     "metadata": {},
     "output_type": "execute_result"
    }
   ],
   "source": [
    "df.head()"
   ]
  },
  {
   "cell_type": "code",
   "execution_count": 52,
   "metadata": {},
   "outputs": [],
   "source": [
    "def apply_DT(df, split_size, target_column, unwanted, numerical):\n",
    "    # Remove unwanted columns\n",
    "    copy = df.copy()\n",
    "    copy = copy.drop(unwanted, axis=1)\n",
    "\n",
    "    # transform values into numerical\n",
    "    if (numerical):\n",
    "        le = LabelEncoder()\n",
    "        for column in copy.columns:\n",
    "            if (copy[column].dtype != \"int64\"):\n",
    "                copy[column] = le.fit_transform(copy[column])\n",
    "\n",
    "    # split to training and testing\n",
    "    X = copy.drop(target_column, axis=1)\n",
    "    y = copy[target_column]\n",
    "    X_train, X_test, y_train, y_test = train_test_split(X, y, test_size=split_size)\n",
    "    \n",
    "    # train decision tree\n",
    "    model = DecisionTreeClassifier()\n",
    "    model = model.fit(X_train, y_train)\n",
    "\n",
    "    # test decision tree\n",
    "    predictions = model.predict(X_test)\n",
    "    \n",
    "    # compare predictions with actual\n",
    "    return y_test, predictions\n",
    "\n",
    "\n"
   ]
  },
  {
   "cell_type": "code",
   "execution_count": 75,
   "metadata": {},
   "outputs": [],
   "source": [
    "labels = []\n",
    "data = []"
   ]
  },
  {
   "cell_type": "code",
   "execution_count": 24,
   "metadata": {},
   "outputs": [
    {
     "data": {
      "text/html": [
       "<div>\n",
       "<style scoped>\n",
       "    .dataframe tbody tr th:only-of-type {\n",
       "        vertical-align: middle;\n",
       "    }\n",
       "\n",
       "    .dataframe tbody tr th {\n",
       "        vertical-align: top;\n",
       "    }\n",
       "\n",
       "    .dataframe thead th {\n",
       "        text-align: right;\n",
       "    }\n",
       "</style>\n",
       "<table border=\"1\" class=\"dataframe\">\n",
       "  <thead>\n",
       "    <tr style=\"text-align: right;\">\n",
       "      <th></th>\n",
       "      <th>Unnamed: 0</th>\n",
       "      <th>Id</th>\n",
       "      <th>Name</th>\n",
       "      <th>Gender</th>\n",
       "      <th>Occupation</th>\n",
       "      <th>Birth year</th>\n",
       "      <th>Death year</th>\n",
       "      <th>Manner of death</th>\n",
       "      <th>Age of death</th>\n",
       "      <th>Associated Countries</th>\n",
       "      <th>Associated Country Life Expectancy</th>\n",
       "    </tr>\n",
       "  </thead>\n",
       "  <tbody>\n",
       "    <tr>\n",
       "      <th>0</th>\n",
       "      <td>1</td>\n",
       "      <td>Q42</td>\n",
       "      <td>douglas adams</td>\n",
       "      <td>male</td>\n",
       "      <td>artist</td>\n",
       "      <td>1952</td>\n",
       "      <td>2001</td>\n",
       "      <td>natural causes</td>\n",
       "      <td>49</td>\n",
       "      <td>united kingdom</td>\n",
       "      <td>[81.3]</td>\n",
       "    </tr>\n",
       "    <tr>\n",
       "      <th>1</th>\n",
       "      <td>2</td>\n",
       "      <td>Q91</td>\n",
       "      <td>abraham lincoln</td>\n",
       "      <td>male</td>\n",
       "      <td>politician</td>\n",
       "      <td>1809</td>\n",
       "      <td>1865</td>\n",
       "      <td>homicide</td>\n",
       "      <td>56</td>\n",
       "      <td>united states</td>\n",
       "      <td>[78.5]</td>\n",
       "    </tr>\n",
       "    <tr>\n",
       "      <th>2</th>\n",
       "      <td>6</td>\n",
       "      <td>Q272</td>\n",
       "      <td>paul morand</td>\n",
       "      <td>male</td>\n",
       "      <td>artist</td>\n",
       "      <td>1888</td>\n",
       "      <td>1976</td>\n",
       "      <td>NaN</td>\n",
       "      <td>88</td>\n",
       "      <td>france</td>\n",
       "      <td>[82.5]</td>\n",
       "    </tr>\n",
       "    <tr>\n",
       "      <th>3</th>\n",
       "      <td>7</td>\n",
       "      <td>Q296</td>\n",
       "      <td>claude monet</td>\n",
       "      <td>male</td>\n",
       "      <td>artist</td>\n",
       "      <td>1840</td>\n",
       "      <td>1926</td>\n",
       "      <td>natural causes</td>\n",
       "      <td>86</td>\n",
       "      <td>france</td>\n",
       "      <td>[82.5]</td>\n",
       "    </tr>\n",
       "    <tr>\n",
       "      <th>4</th>\n",
       "      <td>10</td>\n",
       "      <td>Q303</td>\n",
       "      <td>elvis presley</td>\n",
       "      <td>male</td>\n",
       "      <td>artist</td>\n",
       "      <td>1935</td>\n",
       "      <td>1977</td>\n",
       "      <td>natural causes</td>\n",
       "      <td>42</td>\n",
       "      <td>united states</td>\n",
       "      <td>[78.5]</td>\n",
       "    </tr>\n",
       "  </tbody>\n",
       "</table>\n",
       "</div>"
      ],
      "text/plain": [
       "   Unnamed: 0    Id             Name Gender  Occupation  Birth year  \\\n",
       "0           1   Q42    douglas adams   male      artist        1952   \n",
       "1           2   Q91  abraham lincoln   male  politician        1809   \n",
       "2           6  Q272      paul morand   male      artist        1888   \n",
       "3           7  Q296     claude monet   male      artist        1840   \n",
       "4          10  Q303    elvis presley   male      artist        1935   \n",
       "\n",
       "   Death year Manner of death  Age of death Associated Countries  \\\n",
       "0        2001  natural causes            49       united kingdom   \n",
       "1        1865        homicide            56        united states   \n",
       "2        1976             NaN            88               france   \n",
       "3        1926  natural causes            86               france   \n",
       "4        1977  natural causes            42        united states   \n",
       "\n",
       "  Associated Country Life Expectancy  \n",
       "0                             [81.3]  \n",
       "1                             [78.5]  \n",
       "2                             [82.5]  \n",
       "3                             [82.5]  \n",
       "4                             [78.5]  "
      ]
     },
     "execution_count": 24,
     "metadata": {},
     "output_type": "execute_result"
    }
   ],
   "source": [
    "df.head()"
   ]
  },
  {
   "cell_type": "markdown",
   "metadata": {},
   "source": [
    "### Can the age of death based on features like gender, occupation, birth year, and associated country be predicted?"
   ]
  },
  {
   "cell_type": "markdown",
   "metadata": {},
   "source": [
    "Parameters apply_DT(dataframe, split size (testing), target column, unwanted Columns, convert values to numerical)"
   ]
  },
  {
   "cell_type": "code",
   "execution_count": 53,
   "metadata": {},
   "outputs": [
    {
     "name": "stdout",
     "output_type": "stream",
     "text": [
      "0.027053799713532254\n"
     ]
    }
   ],
   "source": [
    "test_size = 0.30\n",
    "target_column = \"Age of death\"\n",
    "Unwanted = [\"Unnamed: 0\", \"Id\", \"Death year\"]\n",
    "\n",
    "actual, predictions = apply_DT(df, test_size, target_column, Unwanted, True)\n",
    "\n",
    "accuracy = accuracy_score(actual, predictions)\n",
    "print(accuracy)"
   ]
  },
  {
   "cell_type": "code",
   "execution_count": 38,
   "metadata": {},
   "outputs": [
    {
     "data": {
      "text/plain": [
       "array([[1, 0, 0, ..., 0, 0, 0],\n",
       "       [0, 0, 0, ..., 0, 0, 0],\n",
       "       [0, 0, 0, ..., 0, 0, 0],\n",
       "       ...,\n",
       "       [0, 0, 0, ..., 0, 0, 0],\n",
       "       [0, 0, 0, ..., 0, 0, 0],\n",
       "       [0, 0, 0, ..., 0, 0, 0]], dtype=int64)"
      ]
     },
     "execution_count": 38,
     "metadata": {},
     "output_type": "execute_result"
    }
   ],
   "source": [
    "confusion_matrix(actual, predictions)"
   ]
  },
  {
   "cell_type": "code",
   "execution_count": 39,
   "metadata": {},
   "outputs": [
    {
     "name": "stderr",
     "output_type": "stream",
     "text": [
      "c:\\Users\\James\\anaconda3\\lib\\site-packages\\sklearn\\metrics\\_classification.py:1318: UndefinedMetricWarning: Precision is ill-defined and being set to 0.0 in labels with no predicted samples. Use `zero_division` parameter to control this behavior.\n",
      "  _warn_prf(average, modifier, msg_start, len(result))\n"
     ]
    },
    {
     "data": {
      "text/plain": [
       "0.019792315864289044"
      ]
     },
     "execution_count": 39,
     "metadata": {},
     "output_type": "execute_result"
    }
   ],
   "source": [
    "precision_score(actual, predictions, average='macro')"
   ]
  },
  {
   "cell_type": "code",
   "execution_count": 26,
   "metadata": {},
   "outputs": [
    {
     "name": "stdout",
     "output_type": "stream",
     "text": [
      "0.02624727253256228\n"
     ]
    }
   ],
   "source": [
    "test_size = 0.30\n",
    "target_column = \"Age of death\"\n",
    "Unwanted = [\"Unnamed: 0\", \"Id\", \"Birth year\"]\n",
    "\n",
    "actual, predictions = apply_DT(df, test_size, target_column, Unwanted, True)\n",
    "\n",
    "accuracy = accuracy_score(actual, predictions)\n",
    "print(accuracy)"
   ]
  },
  {
   "cell_type": "code",
   "execution_count": 27,
   "metadata": {},
   "outputs": [
    {
     "name": "stdout",
     "output_type": "stream",
     "text": [
      "0.9952445015595089\n"
     ]
    }
   ],
   "source": [
    "test_size = 0.30\n",
    "target_column = \"Age of death\"\n",
    "Unwanted = [\"Unnamed: 0\", \"Id\"]\n",
    "\n",
    "actual, predictions = apply_DT(df, test_size, target_column, Unwanted, True)\n",
    "\n",
    "accuracy = accuracy_score(actual, predictions)\n",
    "print(accuracy)"
   ]
  },
  {
   "cell_type": "code",
   "execution_count": 28,
   "metadata": {},
   "outputs": [
    {
     "name": "stdout",
     "output_type": "stream",
     "text": [
      "0.03050078310108028\n"
     ]
    }
   ],
   "source": [
    "test_size = 0.30\n",
    "target_column = \"Age of death\"\n",
    "Unwanted = [\"Unnamed: 0\", \"Id\", \"Death year\", \"Name\"]\n",
    "\n",
    "actual, predictions = apply_DT(df, test_size, target_column, Unwanted, True)\n",
    "\n",
    "accuracy = accuracy_score(actual, predictions)\n",
    "print(accuracy)"
   ]
  },
  {
   "cell_type": "code",
   "execution_count": 76,
   "metadata": {},
   "outputs": [
    {
     "name": "stdout",
     "output_type": "stream",
     "text": [
      "0.03299064294606642\n"
     ]
    }
   ],
   "source": [
    "test_size = 0.10\n",
    "target_column = \"Age of death\"\n",
    "Unwanted = [\"Unnamed: 0\", \"Id\", \"Death year\", \"Name\", \"Occupation\"]\n",
    "actual, predictions = apply_DT(df, test_size, target_column, Unwanted, True)\n",
    "\n",
    "accuracy = accuracy_score(actual, predictions)\n",
    "print(accuracy)\n",
    "\n",
    "labels.append(target_column)\n",
    "data.append(accuracy)"
   ]
  },
  {
   "cell_type": "code",
   "execution_count": 30,
   "metadata": {},
   "outputs": [
    {
     "name": "stdout",
     "output_type": "stream",
     "text": [
      "0.028071161800730896\n"
     ]
    }
   ],
   "source": [
    "test_size = 0.10\n",
    "target_column = \"Age of death\"\n",
    "Unwanted = [\"Unnamed: 0\", \"Id\", \"Death year\", \"Name\", \"Occupation\", \"Birth year\"]\n",
    "actual, predictions = apply_DT(df, test_size, target_column, Unwanted, True)\n",
    "\n",
    "accuracy = accuracy_score(actual, predictions)\n",
    "print(accuracy)"
   ]
  },
  {
   "cell_type": "markdown",
   "metadata": {},
   "source": [
    "### Can the DT accurately classify the manner of death (e.g., natural causes, accidents) based on the available features?"
   ]
  },
  {
   "cell_type": "code",
   "execution_count": 40,
   "metadata": {},
   "outputs": [
    {
     "data": {
      "text/html": [
       "<div>\n",
       "<style scoped>\n",
       "    .dataframe tbody tr th:only-of-type {\n",
       "        vertical-align: middle;\n",
       "    }\n",
       "\n",
       "    .dataframe tbody tr th {\n",
       "        vertical-align: top;\n",
       "    }\n",
       "\n",
       "    .dataframe thead th {\n",
       "        text-align: right;\n",
       "    }\n",
       "</style>\n",
       "<table border=\"1\" class=\"dataframe\">\n",
       "  <thead>\n",
       "    <tr style=\"text-align: right;\">\n",
       "      <th></th>\n",
       "      <th>Unnamed: 0</th>\n",
       "      <th>Id</th>\n",
       "      <th>Name</th>\n",
       "      <th>Gender</th>\n",
       "      <th>Occupation</th>\n",
       "      <th>Birth year</th>\n",
       "      <th>Death year</th>\n",
       "      <th>Manner of death</th>\n",
       "      <th>Age of death</th>\n",
       "      <th>Associated Countries</th>\n",
       "      <th>Associated Country Life Expectancy</th>\n",
       "    </tr>\n",
       "  </thead>\n",
       "  <tbody>\n",
       "    <tr>\n",
       "      <th>0</th>\n",
       "      <td>1</td>\n",
       "      <td>Q42</td>\n",
       "      <td>douglas adams</td>\n",
       "      <td>male</td>\n",
       "      <td>artist</td>\n",
       "      <td>1952</td>\n",
       "      <td>2001</td>\n",
       "      <td>natural causes</td>\n",
       "      <td>49</td>\n",
       "      <td>united kingdom</td>\n",
       "      <td>[81.3]</td>\n",
       "    </tr>\n",
       "    <tr>\n",
       "      <th>1</th>\n",
       "      <td>2</td>\n",
       "      <td>Q91</td>\n",
       "      <td>abraham lincoln</td>\n",
       "      <td>male</td>\n",
       "      <td>politician</td>\n",
       "      <td>1809</td>\n",
       "      <td>1865</td>\n",
       "      <td>homicide</td>\n",
       "      <td>56</td>\n",
       "      <td>united states</td>\n",
       "      <td>[78.5]</td>\n",
       "    </tr>\n",
       "    <tr>\n",
       "      <th>2</th>\n",
       "      <td>6</td>\n",
       "      <td>Q272</td>\n",
       "      <td>paul morand</td>\n",
       "      <td>male</td>\n",
       "      <td>artist</td>\n",
       "      <td>1888</td>\n",
       "      <td>1976</td>\n",
       "      <td>NaN</td>\n",
       "      <td>88</td>\n",
       "      <td>france</td>\n",
       "      <td>[82.5]</td>\n",
       "    </tr>\n",
       "    <tr>\n",
       "      <th>3</th>\n",
       "      <td>7</td>\n",
       "      <td>Q296</td>\n",
       "      <td>claude monet</td>\n",
       "      <td>male</td>\n",
       "      <td>artist</td>\n",
       "      <td>1840</td>\n",
       "      <td>1926</td>\n",
       "      <td>natural causes</td>\n",
       "      <td>86</td>\n",
       "      <td>france</td>\n",
       "      <td>[82.5]</td>\n",
       "    </tr>\n",
       "    <tr>\n",
       "      <th>4</th>\n",
       "      <td>10</td>\n",
       "      <td>Q303</td>\n",
       "      <td>elvis presley</td>\n",
       "      <td>male</td>\n",
       "      <td>artist</td>\n",
       "      <td>1935</td>\n",
       "      <td>1977</td>\n",
       "      <td>natural causes</td>\n",
       "      <td>42</td>\n",
       "      <td>united states</td>\n",
       "      <td>[78.5]</td>\n",
       "    </tr>\n",
       "  </tbody>\n",
       "</table>\n",
       "</div>"
      ],
      "text/plain": [
       "   Unnamed: 0    Id             Name Gender  Occupation  Birth year  \\\n",
       "0           1   Q42    douglas adams   male      artist        1952   \n",
       "1           2   Q91  abraham lincoln   male  politician        1809   \n",
       "2           6  Q272      paul morand   male      artist        1888   \n",
       "3           7  Q296     claude monet   male      artist        1840   \n",
       "4          10  Q303    elvis presley   male      artist        1935   \n",
       "\n",
       "   Death year Manner of death  Age of death Associated Countries  \\\n",
       "0        2001  natural causes            49       united kingdom   \n",
       "1        1865        homicide            56        united states   \n",
       "2        1976             NaN            88               france   \n",
       "3        1926  natural causes            86               france   \n",
       "4        1977  natural causes            42        united states   \n",
       "\n",
       "  Associated Country Life Expectancy  \n",
       "0                             [81.3]  \n",
       "1                             [78.5]  \n",
       "2                             [82.5]  \n",
       "3                             [82.5]  \n",
       "4                             [78.5]  "
      ]
     },
     "execution_count": 40,
     "metadata": {},
     "output_type": "execute_result"
    }
   ],
   "source": [
    "df.head()"
   ]
  },
  {
   "cell_type": "code",
   "execution_count": 44,
   "metadata": {},
   "outputs": [
    {
     "name": "stdout",
     "output_type": "stream",
     "text": [
      "<class 'pandas.core.series.Series'>\n",
      "RangeIndex: 996037 entries, 0 to 996036\n",
      "Series name: Manner of death\n",
      "Non-Null Count  Dtype \n",
      "--------------  ----- \n",
      "48863 non-null  object\n",
      "dtypes: object(1)\n",
      "memory usage: 7.6+ MB\n"
     ]
    }
   ],
   "source": []
  },
  {
   "cell_type": "code",
   "execution_count": 45,
   "metadata": {},
   "outputs": [],
   "source": [
    "df_mod = df.copy()\n",
    "df_mod = df_mod.dropna(subset=['Manner of death'])"
   ]
  },
  {
   "cell_type": "code",
   "execution_count": 46,
   "metadata": {},
   "outputs": [
    {
     "name": "stdout",
     "output_type": "stream",
     "text": [
      "<class 'pandas.core.series.Series'>\n",
      "Int64Index: 48863 entries, 0 to 995988\n",
      "Series name: Manner of death\n",
      "Non-Null Count  Dtype \n",
      "--------------  ----- \n",
      "48863 non-null  object\n",
      "dtypes: object(1)\n",
      "memory usage: 763.5+ KB\n"
     ]
    }
   ],
   "source": [
    "df_mod[\"Manner of death\"].info()"
   ]
  },
  {
   "cell_type": "code",
   "execution_count": 80,
   "metadata": {},
   "outputs": [
    {
     "name": "stdout",
     "output_type": "stream",
     "text": [
      "0.5838051708847807\n"
     ]
    }
   ],
   "source": [
    "test_size = 0.30\n",
    "target_column = \"Manner of death\"\n",
    "Unwanted = [\"Unnamed: 0\", \"Id\", \"Death year\"]\n",
    "actual, predictions = apply_DT(df_mod, test_size, target_column, Unwanted, True)\n",
    "\n",
    "accuracy = accuracy_score(actual, predictions)\n",
    "print(accuracy)"
   ]
  },
  {
   "cell_type": "code",
   "execution_count": 81,
   "metadata": {},
   "outputs": [
    {
     "name": "stdout",
     "output_type": "stream",
     "text": [
      "0.6018828023739682\n"
     ]
    }
   ],
   "source": [
    "test_size = 0.30\n",
    "target_column = \"Manner of death\"\n",
    "Unwanted = [\"Unnamed: 0\", \"Id\", \"Birth year\"]\n",
    "actual, predictions = apply_DT(df_mod, test_size, target_column, Unwanted, True)\n",
    "\n",
    "accuracy = accuracy_score(actual, predictions)\n",
    "print(accuracy)"
   ]
  },
  {
   "cell_type": "code",
   "execution_count": 82,
   "metadata": {},
   "outputs": [
    {
     "name": "stdout",
     "output_type": "stream",
     "text": [
      "0.5937649225731633\n"
     ]
    }
   ],
   "source": [
    "test_size = 0.3\n",
    "target_column = \"Manner of death\"\n",
    "Unwanted = [\"Unnamed: 0\", \"Id\", \"Death year\", \"Associated Country Life Expectancy\", \"Name\"]\n",
    "actual, predictions = apply_DT(df_mod, test_size, target_column, Unwanted, True)\n",
    "\n",
    "accuracy = accuracy_score(actual, predictions)\n",
    "print(accuracy)\n",
    "\n",
    "labels.append(target_column)\n",
    "data.append(accuracy)"
   ]
  },
  {
   "cell_type": "markdown",
   "metadata": {},
   "source": [
    "### Can the gender of the inidividual be predicted by death related factors?"
   ]
  },
  {
   "cell_type": "code",
   "execution_count": 68,
   "metadata": {},
   "outputs": [
    {
     "name": "stdout",
     "output_type": "stream",
     "text": [
      "0.8448556282880205\n"
     ]
    }
   ],
   "source": [
    "test_size = 0.3\n",
    "target_column = \"Gender\"\n",
    "Unwanted = [\"Unnamed: 0\", \"Id\", \"Death year\"]\n",
    "actual, predictions = apply_DT(df, test_size, target_column, Unwanted, True)\n",
    "\n",
    "accuracy = accuracy_score(actual, predictions)\n",
    "print(accuracy)\n",
    "\n",
    "#labels.append(target_column)\n",
    "#data.append(accuracy)"
   ]
  },
  {
   "cell_type": "code",
   "execution_count": 69,
   "metadata": {},
   "outputs": [
    {
     "name": "stdout",
     "output_type": "stream",
     "text": [
      "0.7065311968729502\n"
     ]
    }
   ],
   "source": [
    "test_size = 0.3\n",
    "target_column = \"Gender\"\n",
    "Unwanted = [\"Unnamed: 0\", \"Id\", \"Death year\", \"Name\"]\n",
    "actual, predictions = apply_DT(df, test_size, target_column, Unwanted, True)\n",
    "\n",
    "accuracy = accuracy_score(actual, predictions)\n",
    "print(accuracy)\n",
    "\n",
    "#labels.append(target_column)\n",
    "#data.append(accuracy)"
   ]
  },
  {
   "cell_type": "code",
   "execution_count": 70,
   "metadata": {},
   "outputs": [
    {
     "name": "stdout",
     "output_type": "stream",
     "text": [
      "0.7444178948636601\n"
     ]
    }
   ],
   "source": [
    "test_size = 0.3\n",
    "target_column = \"Gender\"\n",
    "Unwanted = [\"Unnamed: 0\", \"Id\", \"Death year\", \"Name\", \"Occupation\"]\n",
    "actual, predictions = apply_DT(df, test_size, target_column, Unwanted, True)\n",
    "\n",
    "accuracy = accuracy_score(actual, predictions)\n",
    "print(accuracy)\n",
    "\n",
    "#labels.append(target_column)\n",
    "#data.append(accuracy)"
   ]
  },
  {
   "cell_type": "code",
   "execution_count": 78,
   "metadata": {},
   "outputs": [
    {
     "name": "stdout",
     "output_type": "stream",
     "text": [
      "0.7431093798107171\n"
     ]
    }
   ],
   "source": [
    "test_size = 0.3\n",
    "target_column = \"Gender\"\n",
    "Unwanted = [\"Unnamed: 0\", \"Id\", \"Death year\", \"Name\", \"Occupation\", \"Associated Country Life Expectancy\"]\n",
    "actual, predictions = apply_DT(df, test_size, target_column, Unwanted, True)\n",
    "\n",
    "accuracy = accuracy_score(actual, predictions)\n",
    "print(accuracy)\n",
    "\n",
    "labels.append(target_column)\n",
    "data.append(accuracy)"
   ]
  },
  {
   "cell_type": "code",
   "execution_count": null,
   "metadata": {},
   "outputs": [],
   "source": []
  },
  {
   "cell_type": "markdown",
   "metadata": {},
   "source": [
    "### Can any non-linear relationships be discerned between occupation type and age of death or manner of death?"
   ]
  },
  {
   "cell_type": "code",
   "execution_count": null,
   "metadata": {},
   "outputs": [],
   "source": []
  },
  {
   "cell_type": "markdown",
   "metadata": {},
   "source": [
    "### Can any outlier cases be identified / predicted, such as individuals who lived significantly longer or shorter than the average life expectancy of their associated country?"
   ]
  },
  {
   "cell_type": "code",
   "execution_count": null,
   "metadata": {},
   "outputs": [],
   "source": []
  },
  {
   "cell_type": "code",
   "execution_count": 84,
   "metadata": {},
   "outputs": [
    {
     "data": {
      "text/plain": [
       "Text(0, 0.5, 'Accuracy %')"
      ]
     },
     "execution_count": 84,
     "metadata": {},
     "output_type": "execute_result"
    },
    {
     "data": {
      "image/png": "[encoded data removed]",
      "text/plain": [
       "<Figure size 640x480 with 1 Axes>"
      ]
     },
     "metadata": {},
     "output_type": "display_data"
    }
   ],
   "source": [
    "fig, ax = plt.subplots()\n",
    "ax.bar(labels, data)\n",
    "ax.set_title(\"Dataset Attribute Predictions\")\n",
    "ax.set_ylabel(\"Accuracy %\")"
   ]
  },
  {
   "cell_type": "code",
   "execution_count": 85,
   "metadata": {},
   "outputs": [
    {
     "data": {
      "text/plain": [
       "<bound method Series.unique of male                                              790843\n",
       "female                                             92984\n",
       "transgender female                                    79\n",
       "transgender male                                      31\n",
       "female; male                                           5\n",
       "intersex                                               5\n",
       "non-binary                                             2\n",
       "transgender female; male                               2\n",
       "transgender male; female                               2\n",
       "intersex; female                                       2\n",
       "transgender person; intersex; transgender male         1\n",
       "transgender female; female                             1\n",
       "intersex; transgender male                             1\n",
       "eunuch; male                                           1\n",
       "transgender male; male                                 1\n",
       "transgender female; intersex                           1\n",
       "female; female                                         1\n",
       "intersex; male                                         1\n",
       "non-binary; intersex                                   1\n",
       "Name: Gender, dtype: int64>"
      ]
     },
     "execution_count": 85,
     "metadata": {},
     "output_type": "execute_result"
    }
   ],
   "source": [
    "df[\"Gender\"].value_counts().unique"
   ]
  },
  {
   "cell_type": "code",
   "execution_count": null,
   "metadata": {},
   "outputs": [],
   "source": []
  }
 ],
 "metadata": {
  "kernelspec": {
   "display_name": "base",
   "language": "python",
   "name": "python3"
  },
  "language_info": {
   "codemirror_mode": {
    "name": "ipython",
    "version": 3
   },
   "file_extension": ".py",
   "mimetype": "text/x-python",
   "name": "python",
   "nbconvert_exporter": "python",
   "pygments_lexer": "ipython3",
   "version": "3.9.13"
  },
  "orig_nbformat": 4
 },
 "nbformat": 4,
 "nbformat_minor": 2
}

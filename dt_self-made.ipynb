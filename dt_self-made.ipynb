{
 "cells": [
  {
   "cell_type": "code",
   "execution_count": 1,
   "metadata": {},
   "outputs": [],
   "source": [
    "import numpy as np\n",
    "import pandas as pd\n",
    "from sklearn.preprocessing import LabelEncoder\n",
    "from sklearn.model_selection import train_test_split"
   ]
  },
  {
   "cell_type": "code",
   "execution_count": 2,
   "metadata": {},
   "outputs": [],
   "source": [
    "class DecisionNode:\n",
    "    def __init__(self, feature_index=None, threshold=None, left=None, right=None, value=None):\n",
    "        self.feature_index = feature_index\n",
    "        self.threshold = threshold\n",
    "        self.left = left\n",
    "        self.right = right\n",
    "        self.value = value"
   ]
  },
  {
   "cell_type": "code",
   "execution_count": 3,
   "metadata": {},
   "outputs": [],
   "source": [
    "def gini(y):\n",
    "    m = len(y)\n",
    "    return 1.0 - sum([(np.sum(y == c) / m) ** 2 for c in np.unique(y)])\n"
   ]
  },
  {
   "cell_type": "code",
   "execution_count": 4,
   "metadata": {},
   "outputs": [],
   "source": [
    "def split(X, y, feature_index, threshold):\n",
    "    left_idx = np.where(X[:, feature_index] <= threshold)\n",
    "    right_idx = np.where(X[:, feature_index] > threshold)\n",
    "    return X[left_idx], y[left_idx], X[right_idx], y[right_idx]"
   ]
  },
  {
   "cell_type": "code",
   "execution_count": 5,
   "metadata": {},
   "outputs": [],
   "source": [
    "def best_split(X, y, num_thresholds=10):\n",
    "    best_gini = float('inf')\n",
    "    split_index, split_threshold = None, None\n",
    "    for feature_index in range(X.shape[1]):\n",
    "        thresholds = np.linspace(X[:, feature_index].min(), X[:, feature_index].max(), num_thresholds)\n",
    "        for threshold in thresholds:\n",
    "            # Left = feature_index <= threshold\n",
    "            # Right = feature_index >= threshold\n",
    "            X_left, y_left, X_right, y_right = split(X, y, feature_index, threshold)\n",
    "            # If either the left or right split doesn't contain any data points, the loop skips the rest of the current iteration and moves on to the next threshold. \n",
    "            if len(y_left) == 0 or len(y_right) == 0:\n",
    "                continue\n",
    "\n",
    "            w_left = len(y_left) / len(y)\n",
    "            w_right = len(y_right) / len(y)\n",
    "            gini_after = w_left * gini(y_left) + w_right * gini(y_right)\n",
    "            \n",
    "            if gini_after < best_gini:\n",
    "                best_gini = gini_after\n",
    "                split_index = feature_index\n",
    "                split_threshold = threshold\n",
    "\n",
    "    return split_index, split_threshold"
   ]
  },
  {
   "cell_type": "code",
   "execution_count": 6,
   "metadata": {},
   "outputs": [],
   "source": [
    "def build_tree(X, y, max_depth=3):\n",
    "    # Number of training classifiers\n",
    "    num_labels = len(np.unique(y))\n",
    "\n",
    "    # Check of unusable data\n",
    "    if max_depth == 0 or num_labels == 1:\n",
    "        # Max number of occurences of classifiers\n",
    "        leaf_value = np.argmax(np.bincount(y))\n",
    "        # Create leaf node\n",
    "        return DecisionNode(value=leaf_value)\n",
    "    \n",
    "    # Find feature with highest gain\n",
    "    feature_index, threshold = best_split(X, y)\n",
    "    if feature_index is None:\n",
    "        leaf_value = np.argmax(np.bincount(y))\n",
    "        # Create leaf node\n",
    "        return DecisionNode(value=leaf_value)\n",
    "    \n",
    "    X_left, y_left, X_right, y_right = split(X, y, feature_index, threshold)\n",
    "    left_subtree = build_tree(X_left, y_left, max_depth - 1)\n",
    "    right_subtree = build_tree(X_right, y_right, max_depth - 1)\n",
    "\n",
    "    # Create decision node\n",
    "    return DecisionNode(feature_index=feature_index, threshold=threshold, left=left_subtree, right=right_subtree)\n"
   ]
  },
  {
   "cell_type": "code",
   "execution_count": 7,
   "metadata": {},
   "outputs": [],
   "source": [
    "def predict_tree(sample, tree):\n",
    "    if tree.value is not None:\n",
    "        return tree.value\n",
    "    if sample[tree.feature_index] <= tree.threshold:\n",
    "        return predict_tree(sample, tree.left)\n",
    "    return predict_tree(sample, tree.right)"
   ]
  },
  {
   "cell_type": "code",
   "execution_count": 9,
   "metadata": {},
   "outputs": [],
   "source": [
    "# def train_test_split(df, target_column_name, test_size=0.2):\n",
    "#     shuffled_indices = np.random.permutation(len(df))\n",
    "#     test_set_size = int(len(df) * test_size)\n",
    "#     test_indices = shuffled_indices[:test_set_size]\n",
    "#     train_indices = shuffled_indices[test_set_size:]\n",
    "#     return df.iloc[train_indices], df.iloc[test_indices]"
   ]
  },
  {
   "cell_type": "code",
   "execution_count": 22,
   "metadata": {},
   "outputs": [
    {
     "data": {
      "text/html": [
       "<div>\n",
       "<style scoped>\n",
       "    .dataframe tbody tr th:only-of-type {\n",
       "        vertical-align: middle;\n",
       "    }\n",
       "\n",
       "    .dataframe tbody tr th {\n",
       "        vertical-align: top;\n",
       "    }\n",
       "\n",
       "    .dataframe thead th {\n",
       "        text-align: right;\n",
       "    }\n",
       "</style>\n",
       "<table border=\"1\" class=\"dataframe\">\n",
       "  <thead>\n",
       "    <tr style=\"text-align: right;\">\n",
       "      <th></th>\n",
       "      <th>Unnamed: 0</th>\n",
       "      <th>Id</th>\n",
       "      <th>Name</th>\n",
       "      <th>Gender</th>\n",
       "      <th>Occupation</th>\n",
       "      <th>Birth year</th>\n",
       "      <th>Death year</th>\n",
       "      <th>Manner of death</th>\n",
       "      <th>Age of death</th>\n",
       "      <th>Associated Countries</th>\n",
       "      <th>Associated Country Life Expectancy</th>\n",
       "    </tr>\n",
       "  </thead>\n",
       "  <tbody>\n",
       "    <tr>\n",
       "      <th>0</th>\n",
       "      <td>1</td>\n",
       "      <td>Q42</td>\n",
       "      <td>douglas adams</td>\n",
       "      <td>male</td>\n",
       "      <td>artist</td>\n",
       "      <td>1952</td>\n",
       "      <td>2001</td>\n",
       "      <td>natural causes</td>\n",
       "      <td>49</td>\n",
       "      <td>united kingdom</td>\n",
       "      <td>[81.3]</td>\n",
       "    </tr>\n",
       "    <tr>\n",
       "      <th>1</th>\n",
       "      <td>2</td>\n",
       "      <td>Q91</td>\n",
       "      <td>abraham lincoln</td>\n",
       "      <td>male</td>\n",
       "      <td>politician</td>\n",
       "      <td>1809</td>\n",
       "      <td>1865</td>\n",
       "      <td>homicide</td>\n",
       "      <td>56</td>\n",
       "      <td>united states</td>\n",
       "      <td>[78.5]</td>\n",
       "    </tr>\n",
       "    <tr>\n",
       "      <th>2</th>\n",
       "      <td>6</td>\n",
       "      <td>Q272</td>\n",
       "      <td>paul morand</td>\n",
       "      <td>male</td>\n",
       "      <td>artist</td>\n",
       "      <td>1888</td>\n",
       "      <td>1976</td>\n",
       "      <td>NaN</td>\n",
       "      <td>88</td>\n",
       "      <td>france</td>\n",
       "      <td>[82.5]</td>\n",
       "    </tr>\n",
       "    <tr>\n",
       "      <th>3</th>\n",
       "      <td>7</td>\n",
       "      <td>Q296</td>\n",
       "      <td>claude monet</td>\n",
       "      <td>male</td>\n",
       "      <td>artist</td>\n",
       "      <td>1840</td>\n",
       "      <td>1926</td>\n",
       "      <td>natural causes</td>\n",
       "      <td>86</td>\n",
       "      <td>france</td>\n",
       "      <td>[82.5]</td>\n",
       "    </tr>\n",
       "    <tr>\n",
       "      <th>4</th>\n",
       "      <td>10</td>\n",
       "      <td>Q303</td>\n",
       "      <td>elvis presley</td>\n",
       "      <td>male</td>\n",
       "      <td>artist</td>\n",
       "      <td>1935</td>\n",
       "      <td>1977</td>\n",
       "      <td>natural causes</td>\n",
       "      <td>42</td>\n",
       "      <td>united states</td>\n",
       "      <td>[78.5]</td>\n",
       "    </tr>\n",
       "  </tbody>\n",
       "</table>\n",
       "</div>"
      ],
      "text/plain": [
       "   Unnamed: 0    Id             Name Gender  Occupation  Birth year  \\\n",
       "0           1   Q42    douglas adams   male      artist        1952   \n",
       "1           2   Q91  abraham lincoln   male  politician        1809   \n",
       "2           6  Q272      paul morand   male      artist        1888   \n",
       "3           7  Q296     claude monet   male      artist        1840   \n",
       "4          10  Q303    elvis presley   male      artist        1935   \n",
       "\n",
       "   Death year Manner of death  Age of death Associated Countries  \\\n",
       "0        2001  natural causes            49       united kingdom   \n",
       "1        1865        homicide            56        united states   \n",
       "2        1976             NaN            88               france   \n",
       "3        1926  natural causes            86               france   \n",
       "4        1977  natural causes            42        united states   \n",
       "\n",
       "  Associated Country Life Expectancy  \n",
       "0                             [81.3]  \n",
       "1                             [78.5]  \n",
       "2                             [82.5]  \n",
       "3                             [82.5]  \n",
       "4                             [78.5]  "
      ]
     },
     "execution_count": 22,
     "metadata": {},
     "output_type": "execute_result"
    }
   ],
   "source": [
    "# Load data\n",
    "df = pd.read_csv('preprocessed_age.csv')\n",
    "df.head()"
   ]
  },
  {
   "cell_type": "code",
   "execution_count": 23,
   "metadata": {},
   "outputs": [],
   "source": [
    "df = df.drop([\"Unnamed: 0\", \"Id\", \"Death year\"], axis=1)\n",
    "\n",
    "target_column_name = \"Gender\"\n",
    "df = df.dropna(subset=[target_column_name])\n"
   ]
  },
  {
   "cell_type": "code",
   "execution_count": 24,
   "metadata": {},
   "outputs": [],
   "source": [
    "le = LabelEncoder()\n",
    "for column in df.columns:\n",
    "    if (df[column].dtype != \"int64\"):\n",
    "        df[column] = le.fit_transform(df[column])"
   ]
  },
  {
   "cell_type": "code",
   "execution_count": 25,
   "metadata": {},
   "outputs": [],
   "source": [
    "X = df.drop(columns=[target_column_name]).values\n",
    "y = df[target_column_name].values\n",
    "X_train, X_test, y_train, y_test = train_test_split(X, y, test_size=0.3)"
   ]
  },
  {
   "cell_type": "code",
   "execution_count": 26,
   "metadata": {},
   "outputs": [
    {
     "name": "stdout",
     "output_type": "stream",
     "text": [
      "Accuracy: 89.48%\n"
     ]
    }
   ],
   "source": [
    "tree = build_tree(X_train, y_train, max_depth=5)\n",
    "\n",
    "predictions = [predict_tree(sample, tree) for sample in X_test]\n",
    "accuracy = np.mean(predictions == y_test)\n",
    "print(f\"Accuracy: {accuracy * 100:.2f}%\")"
   ]
  },
  {
   "cell_type": "code",
   "execution_count": 13,
   "metadata": {},
   "outputs": [],
   "source": [
    "from sklearn.metrics import precision_score, recall_score, f1_score\n",
    "def prf(actual, predictions):\n",
    "    print(\"Precision:\", precision_score(actual, predictions, average='macro') * 100)\n",
    "    print(\"Recall:\",recall_score(actual, predictions, average='macro') * 100)\n",
    "    print(\"F1:\",f1_score(actual, predictions, average='macro') * 100)"
   ]
  },
  {
   "cell_type": "code",
   "execution_count": 27,
   "metadata": {},
   "outputs": [
    {
     "name": "stdout",
     "output_type": "stream",
     "text": [
      "Precision: 15.85998798180101\n",
      "Recall: 10.102661508476418\n",
      "F1: 9.657295663497282\n"
     ]
    },
    {
     "name": "stderr",
     "output_type": "stream",
     "text": [
      "c:\\Users\\James\\anaconda3\\lib\\site-packages\\sklearn\\metrics\\_classification.py:1318: UndefinedMetricWarning: Precision is ill-defined and being set to 0.0 in labels with no predicted samples. Use `zero_division` parameter to control this behavior.\n",
      "  _warn_prf(average, modifier, msg_start, len(result))\n"
     ]
    }
   ],
   "source": [
    "prf(y_test, predictions)\n"
   ]
  },
  {
   "cell_type": "code",
   "execution_count": 28,
   "metadata": {},
   "outputs": [],
   "source": [
    "import matplotlib.pyplot as plt "
   ]
  },
  {
   "cell_type": "code",
   "execution_count": null,
   "metadata": {},
   "outputs": [],
   "source": []
  }
 ],
 "metadata": {
  "kernelspec": {
   "display_name": "base",
   "language": "python",
   "name": "python3"
  },
  "language_info": {
   "codemirror_mode": {
    "name": "ipython",
    "version": 3
   },
   "file_extension": ".py",
   "mimetype": "text/x-python",
   "name": "python",
   "nbconvert_exporter": "python",
   "pygments_lexer": "ipython3",
   "version": "3.9.13"
  }
 },
 "nbformat": 4,
 "nbformat_minor": 2
}

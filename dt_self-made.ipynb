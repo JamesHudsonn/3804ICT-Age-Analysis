{
 "cells": [
  {
   "cell_type": "code",
   "execution_count": null,
   "metadata": {},
   "outputs": [],
   "source": [
    "import numpy as np\n",
    "import pandas as pd\n",
    "from sklearn.preprocessing import LabelEncoder\n",
    "from sklearn.model_selection import train_test_split"
   ]
  },
  {
   "cell_type": "code",
   "execution_count": null,
   "metadata": {},
   "outputs": [],
   "source": [
    "class DecisionNode:\n",
    "    def __init__(self, feature_index=None, threshold=None, left=None, right=None, value=None):\n",
    "        self.feature_index = feature_index\n",
    "        self.threshold = threshold\n",
    "        self.left = left\n",
    "        self.right = right\n",
    "        self.value = value"
   ]
  },
  {
   "cell_type": "code",
   "execution_count": 1,
   "metadata": {},
   "outputs": [],
   "source": [
    "def gini(y):\n",
    "    m = len(y)\n",
    "    return 1.0 - sum([(np.sum(y == c) / m) ** 2 for c in np.unique(y)])\n"
   ]
  },
  {
   "cell_type": "code",
   "execution_count": 2,
   "metadata": {},
   "outputs": [],
   "source": [
    "def split(X, y, feature_index, threshold):\n",
    "    left_idx = np.where(X[:, feature_index] <= threshold)\n",
    "    right_idx = np.where(X[:, feature_index] > threshold)\n",
    "    return X[left_idx], y[left_idx], X[right_idx], y[right_idx]"
   ]
  },
  {
   "cell_type": "code",
   "execution_count": 3,
   "metadata": {},
   "outputs": [],
   "source": [
    "def best_split(X, y, num_thresholds=10):\n",
    "    best_gini = float('inf')\n",
    "    split_idx, split_threshold = None, None\n",
    "    for feature_index in range(X.shape[1]):\n",
    "        thresholds = np.linspace(X[:, feature_index].min(), X[:, feature_index].max(), num_thresholds)\n",
    "        for threshold in thresholds:\n",
    "            X_left, y_left, X_right, y_right = split(X, y, feature_index, threshold)\n",
    "            if len(y_left) == 0 or len(y_right) == 0:\n",
    "                continue\n",
    "\n",
    "            w_left = len(y_left) / len(y)\n",
    "            w_right = len(y_right) / len(y)\n",
    "            gini_after = w_left * gini(y_left) + w_right * gini(y_right)\n",
    "            \n",
    "            if gini_after < best_gini:\n",
    "                best_gini = gini_after\n",
    "                split_idx = feature_index\n",
    "                split_threshold = threshold\n",
    "\n",
    "    return split_idx, split_threshold"
   ]
  },
  {
   "cell_type": "code",
   "execution_count": 4,
   "metadata": {},
   "outputs": [],
   "source": [
    "def build_tree(X, y, max_depth=3):\n",
    "    num_samples, num_features = X.shape\n",
    "    num_labels = len(np.unique(y))\n",
    "    if max_depth == 0 or num_labels == 1:\n",
    "        leaf_value = np.argmax(np.bincount(y))\n",
    "        return DecisionNode(value=leaf_value)\n",
    "    \n",
    "    feature_idx, threshold = best_split(X, y)\n",
    "    if feature_idx is None:\n",
    "        leaf_value = np.argmax(np.bincount(y))\n",
    "        return DecisionNode(value=leaf_value)\n",
    "    \n",
    "    X_left, y_left, X_right, y_right = split(X, y, feature_idx, threshold)\n",
    "    left_subtree = build_tree(X_left, y_left, max_depth - 1)\n",
    "    right_subtree = build_tree(X_right, y_right, max_depth - 1)\n",
    "\n",
    "    return DecisionNode(feature_index=feature_idx, threshold=threshold, left=left_subtree, right=right_subtree)\n"
   ]
  },
  {
   "cell_type": "code",
   "execution_count": 5,
   "metadata": {},
   "outputs": [],
   "source": [
    "def predict_tree(sample, tree):\n",
    "    if tree.value is not None:\n",
    "        return tree.value\n",
    "    if sample[tree.feature_index] <= tree.threshold:\n",
    "        return predict_tree(sample, tree.left)\n",
    "    return predict_tree(sample, tree.right)"
   ]
  },
  {
   "cell_type": "code",
   "execution_count": 6,
   "metadata": {},
   "outputs": [],
   "source": [
    "def train_test_split(df, target_column_name, test_size=0.2):\n",
    "    shuffled_indices = np.random.permutation(len(df))\n",
    "    test_set_size = int(len(df) * test_size)\n",
    "    test_indices = shuffled_indices[:test_set_size]\n",
    "    train_indices = shuffled_indices[test_set_size:]\n",
    "    return df.iloc[train_indices], df.iloc[test_indices]"
   ]
  },
  {
   "cell_type": "code",
   "execution_count": 27,
   "metadata": {},
   "outputs": [],
   "source": [
    "# Load data\n",
    "df = pd.read_csv('preprocessed_age.csv')\n",
    "df.head()"
   ]
  },
  {
   "cell_type": "code",
   "execution_count": null,
   "metadata": {},
   "outputs": [],
   "source": [
    "df = df.drop([\"Unnamed: 0\", \"Id\", \"Death year\"], axis=1)\n",
    "\n",
    "target_column_name = \"Age of death\"\n",
    "df = df.dropna(subset=[target_column_name])\n",
    "X = df.drop(columns=[target_column_name]).values\n",
    "y = df[target_column_name].values"
   ]
  },
  {
   "cell_type": "code",
   "execution_count": null,
   "metadata": {},
   "outputs": [],
   "source": [
    "le = LabelEncoder()\n",
    "for column in df.columns:\n",
    "    if (df[column].dtype != \"int64\"):\n",
    "        df[column] = le.fit_transform(df[column])"
   ]
  },
  {
   "cell_type": "code",
   "execution_count": 7,
   "metadata": {},
   "outputs": [
    {
     "ename": "NameError",
     "evalue": "name 'df' is not defined",
     "output_type": "error",
     "traceback": [
      "\u001b[1;31m---------------------------------------------------------------------------\u001b[0m",
      "\u001b[1;31mNameError\u001b[0m                                 Traceback (most recent call last)",
      "\u001b[1;32m~\\AppData\\Local\\Temp\\ipykernel_1720\\1915409167.py\u001b[0m in \u001b[0;36m<module>\u001b[1;34m\u001b[0m\n\u001b[1;32m----> 1\u001b[1;33m \u001b[0mX_train_df\u001b[0m\u001b[1;33m,\u001b[0m \u001b[0mX_test_df\u001b[0m \u001b[1;33m=\u001b[0m \u001b[0mtrain_test_split\u001b[0m\u001b[1;33m(\u001b[0m\u001b[0mdf\u001b[0m\u001b[1;33m,\u001b[0m \u001b[0mtarget_column_name\u001b[0m\u001b[1;33m)\u001b[0m\u001b[1;33m\u001b[0m\u001b[1;33m\u001b[0m\u001b[0m\n\u001b[0m\u001b[0;32m      2\u001b[0m \u001b[1;33m\u001b[0m\u001b[0m\n\u001b[0;32m      3\u001b[0m \u001b[0mX_train\u001b[0m \u001b[1;33m=\u001b[0m \u001b[0mX_train_df\u001b[0m\u001b[1;33m.\u001b[0m\u001b[0mdrop\u001b[0m\u001b[1;33m(\u001b[0m\u001b[0mcolumns\u001b[0m\u001b[1;33m=\u001b[0m\u001b[1;33m[\u001b[0m\u001b[0mtarget_column_name\u001b[0m\u001b[1;33m]\u001b[0m\u001b[1;33m)\u001b[0m\u001b[1;33m.\u001b[0m\u001b[0mto_numpy\u001b[0m\u001b[1;33m(\u001b[0m\u001b[1;33m)\u001b[0m\u001b[1;33m\u001b[0m\u001b[1;33m\u001b[0m\u001b[0m\n\u001b[0;32m      4\u001b[0m \u001b[0my_train\u001b[0m \u001b[1;33m=\u001b[0m \u001b[0mX_train_df\u001b[0m\u001b[1;33m[\u001b[0m\u001b[0mtarget_column_name\u001b[0m\u001b[1;33m]\u001b[0m\u001b[1;33m.\u001b[0m\u001b[0mto_numpy\u001b[0m\u001b[1;33m(\u001b[0m\u001b[1;33m)\u001b[0m\u001b[1;33m\u001b[0m\u001b[1;33m\u001b[0m\u001b[0m\n\u001b[0;32m      5\u001b[0m \u001b[0mX_test\u001b[0m \u001b[1;33m=\u001b[0m \u001b[0mX_test_df\u001b[0m\u001b[1;33m.\u001b[0m\u001b[0mdrop\u001b[0m\u001b[1;33m(\u001b[0m\u001b[0mcolumns\u001b[0m\u001b[1;33m=\u001b[0m\u001b[1;33m[\u001b[0m\u001b[0mtarget_column_name\u001b[0m\u001b[1;33m]\u001b[0m\u001b[1;33m)\u001b[0m\u001b[1;33m.\u001b[0m\u001b[0mto_numpy\u001b[0m\u001b[1;33m(\u001b[0m\u001b[1;33m)\u001b[0m\u001b[1;33m\u001b[0m\u001b[1;33m\u001b[0m\u001b[0m\n",
      "\u001b[1;31mNameError\u001b[0m: name 'df' is not defined"
     ]
    }
   ],
   "source": [
    "X_train_df, X_test_df = train_test_split(df, target_column_name)\n",
    "\n",
    "X_train = X_train_df.drop(columns=[target_column_name]).to_numpy()\n",
    "y_train = X_train_df[target_column_name].to_numpy()\n",
    "X_test = X_test_df.drop(columns=[target_column_name]).to_numpy()\n",
    "y_test = X_test_df[target_column_name].to_numpy()"
   ]
  },
  {
   "cell_type": "code",
   "execution_count": null,
   "metadata": {},
   "outputs": [
    {
     "name": "stdout",
     "output_type": "stream",
     "text": [
      "Accuracy: 3.60%\n"
     ]
    }
   ],
   "source": [
    "tree = build_tree(X_train, y_train, max_depth=5)\n",
    "\n",
    "predictions = [predict_tree(sample, tree) for sample in X_test]\n",
    "accuracy = np.mean(predictions == y_test)\n",
    "print(f\"Accuracy: {accuracy * 100:.2f}%\")"
   ]
  },
  {
   "cell_type": "code",
   "execution_count": null,
   "metadata": {},
   "outputs": [],
   "source": []
  }
 ],
 "metadata": {
  "kernelspec": {
   "display_name": "base",
   "language": "python",
   "name": "python3"
  },
  "language_info": {
   "codemirror_mode": {
    "name": "ipython",
    "version": 3
   },
   "file_extension": ".py",
   "mimetype": "text/x-python",
   "name": "python",
   "nbconvert_exporter": "python",
   "pygments_lexer": "ipython3",
   "version": "3.9.13"
  }
 },
 "nbformat": 4,
 "nbformat_minor": 2
}

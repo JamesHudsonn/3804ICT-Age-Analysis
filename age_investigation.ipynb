{
 "cells": [
  {
   "cell_type": "code",
   "execution_count": 2,
   "metadata": {},
   "outputs": [],
   "source": [
    "import pandas as pd\n",
    "import numpy as np\n",
    "import matplotlib.pyplot as plt"
   ]
  },
  {
   "cell_type": "code",
   "execution_count": 17,
   "metadata": {},
   "outputs": [
    {
     "data": {
      "text/html": [
       "<div>\n",
       "<style scoped>\n",
       "    .dataframe tbody tr th:only-of-type {\n",
       "        vertical-align: middle;\n",
       "    }\n",
       "\n",
       "    .dataframe tbody tr th {\n",
       "        vertical-align: top;\n",
       "    }\n",
       "\n",
       "    .dataframe thead th {\n",
       "        text-align: right;\n",
       "    }\n",
       "</style>\n",
       "<table border=\"1\" class=\"dataframe\">\n",
       "  <thead>\n",
       "    <tr style=\"text-align: right;\">\n",
       "      <th></th>\n",
       "      <th>Id</th>\n",
       "      <th>Name</th>\n",
       "      <th>Short description</th>\n",
       "      <th>Gender</th>\n",
       "      <th>Country</th>\n",
       "      <th>Occupation</th>\n",
       "      <th>Birth year</th>\n",
       "      <th>Death year</th>\n",
       "      <th>Manner of death</th>\n",
       "      <th>Age of death</th>\n",
       "      <th>Associated Countries</th>\n",
       "      <th>Associated Country Coordinates (Lat/Lon)</th>\n",
       "      <th>Associated Country Life Expectancy</th>\n",
       "    </tr>\n",
       "  </thead>\n",
       "  <tbody>\n",
       "    <tr>\n",
       "      <th>0</th>\n",
       "      <td>Q23</td>\n",
       "      <td>George Washington</td>\n",
       "      <td>1st president of the United States (1732–1799)</td>\n",
       "      <td>Male</td>\n",
       "      <td>United States of America; Kingdom of Great Bri...</td>\n",
       "      <td>Politician</td>\n",
       "      <td>1732</td>\n",
       "      <td>1799.0</td>\n",
       "      <td>natural causes</td>\n",
       "      <td>67.0</td>\n",
       "      <td>['United Kingdom', 'United States']</td>\n",
       "      <td>[(55.378051, -3.435973), (37.09024, -95.712891)]</td>\n",
       "      <td>[81.3, 78.5]</td>\n",
       "    </tr>\n",
       "    <tr>\n",
       "      <th>1</th>\n",
       "      <td>Q42</td>\n",
       "      <td>Douglas Adams</td>\n",
       "      <td>English writer and humorist</td>\n",
       "      <td>Male</td>\n",
       "      <td>United Kingdom</td>\n",
       "      <td>Artist</td>\n",
       "      <td>1952</td>\n",
       "      <td>2001.0</td>\n",
       "      <td>natural causes</td>\n",
       "      <td>49.0</td>\n",
       "      <td>['United Kingdom']</td>\n",
       "      <td>[(55.378051, -3.435973)]</td>\n",
       "      <td>[81.3]</td>\n",
       "    </tr>\n",
       "    <tr>\n",
       "      <th>2</th>\n",
       "      <td>Q91</td>\n",
       "      <td>Abraham Lincoln</td>\n",
       "      <td>16th president of the United States (1809-1865)</td>\n",
       "      <td>Male</td>\n",
       "      <td>United States of America</td>\n",
       "      <td>Politician</td>\n",
       "      <td>1809</td>\n",
       "      <td>1865.0</td>\n",
       "      <td>homicide</td>\n",
       "      <td>56.0</td>\n",
       "      <td>['United States']</td>\n",
       "      <td>[(37.09024, -95.712891)]</td>\n",
       "      <td>[78.5]</td>\n",
       "    </tr>\n",
       "    <tr>\n",
       "      <th>3</th>\n",
       "      <td>Q254</td>\n",
       "      <td>Wolfgang Amadeus Mozart</td>\n",
       "      <td>Austrian composer of the Classical period</td>\n",
       "      <td>Male</td>\n",
       "      <td>Archduchy of Austria; Archbishopric of Salzburg</td>\n",
       "      <td>Artist</td>\n",
       "      <td>1756</td>\n",
       "      <td>1791.0</td>\n",
       "      <td>NaN</td>\n",
       "      <td>35.0</td>\n",
       "      <td>['Austria']</td>\n",
       "      <td>[(47.516231, 14.550072)]</td>\n",
       "      <td>[81.6]</td>\n",
       "    </tr>\n",
       "    <tr>\n",
       "      <th>4</th>\n",
       "      <td>Q255</td>\n",
       "      <td>Ludwig van Beethoven</td>\n",
       "      <td>German classical and romantic composer</td>\n",
       "      <td>Male</td>\n",
       "      <td>Holy Roman Empire; Austrian Empire</td>\n",
       "      <td>Artist</td>\n",
       "      <td>1770</td>\n",
       "      <td>1827.0</td>\n",
       "      <td>NaN</td>\n",
       "      <td>57.0</td>\n",
       "      <td>['Austria', 'Italy']</td>\n",
       "      <td>[(47.516231, 14.550072), (41.87194, 12.56738)]</td>\n",
       "      <td>[81.6, 82.9]</td>\n",
       "    </tr>\n",
       "  </tbody>\n",
       "</table>\n",
       "</div>"
      ],
      "text/plain": [
       "     Id                     Name  \\\n",
       "0   Q23        George Washington   \n",
       "1   Q42            Douglas Adams   \n",
       "2   Q91          Abraham Lincoln   \n",
       "3  Q254  Wolfgang Amadeus Mozart   \n",
       "4  Q255     Ludwig van Beethoven   \n",
       "\n",
       "                                 Short description Gender  \\\n",
       "0   1st president of the United States (1732–1799)   Male   \n",
       "1                      English writer and humorist   Male   \n",
       "2  16th president of the United States (1809-1865)   Male   \n",
       "3        Austrian composer of the Classical period   Male   \n",
       "4           German classical and romantic composer   Male   \n",
       "\n",
       "                                             Country  Occupation  Birth year  \\\n",
       "0  United States of America; Kingdom of Great Bri...  Politician        1732   \n",
       "1                                     United Kingdom      Artist        1952   \n",
       "2                           United States of America  Politician        1809   \n",
       "3    Archduchy of Austria; Archbishopric of Salzburg      Artist        1756   \n",
       "4                 Holy Roman Empire; Austrian Empire      Artist        1770   \n",
       "\n",
       "   Death year Manner of death  Age of death  \\\n",
       "0      1799.0  natural causes          67.0   \n",
       "1      2001.0  natural causes          49.0   \n",
       "2      1865.0        homicide          56.0   \n",
       "3      1791.0             NaN          35.0   \n",
       "4      1827.0             NaN          57.0   \n",
       "\n",
       "                  Associated Countries  \\\n",
       "0  ['United Kingdom', 'United States']   \n",
       "1                   ['United Kingdom']   \n",
       "2                    ['United States']   \n",
       "3                          ['Austria']   \n",
       "4                 ['Austria', 'Italy']   \n",
       "\n",
       "           Associated Country Coordinates (Lat/Lon)  \\\n",
       "0  [(55.378051, -3.435973), (37.09024, -95.712891)]   \n",
       "1                          [(55.378051, -3.435973)]   \n",
       "2                          [(37.09024, -95.712891)]   \n",
       "3                          [(47.516231, 14.550072)]   \n",
       "4    [(47.516231, 14.550072), (41.87194, 12.56738)]   \n",
       "\n",
       "  Associated Country Life Expectancy  \n",
       "0                       [81.3, 78.5]  \n",
       "1                             [81.3]  \n",
       "2                             [78.5]  \n",
       "3                             [81.6]  \n",
       "4                       [81.6, 82.9]  "
      ]
     },
     "execution_count": 17,
     "metadata": {},
     "output_type": "execute_result"
    }
   ],
   "source": [
    "df = pd.read_csv(\"ages_dataset.csv\")\n",
    "df.head()"
   ]
  },
  {
   "cell_type": "code",
   "execution_count": 5,
   "metadata": {},
   "outputs": [
    {
     "name": "stdout",
     "output_type": "stream",
     "text": [
      "<class 'pandas.core.frame.DataFrame'>\n",
      "RangeIndex: 1223009 entries, 0 to 1223008\n",
      "Data columns (total 13 columns):\n",
      " #   Column                                    Non-Null Count    Dtype  \n",
      "---  ------                                    --------------    -----  \n",
      " 0   Id                                        1223009 non-null  object \n",
      " 1   Name                                      1223009 non-null  object \n",
      " 2   Short description                         1155109 non-null  object \n",
      " 3   Gender                                    1089363 non-null  object \n",
      " 4   Country                                   887500 non-null   object \n",
      " 5   Occupation                                1016095 non-null  object \n",
      " 6   Birth year                                1223009 non-null  int64  \n",
      " 7   Death year                                1223008 non-null  float64\n",
      " 8   Manner of death                           53603 non-null    object \n",
      " 9   Age of death                              1223008 non-null  float64\n",
      " 10  Associated Countries                      854316 non-null   object \n",
      " 11  Associated Country Coordinates (Lat/Lon)  854316 non-null   object \n",
      " 12  Associated Country Life Expectancy        854079 non-null   object \n",
      "dtypes: float64(2), int64(1), object(10)\n",
      "memory usage: 121.3+ MB\n"
     ]
    }
   ],
   "source": [
    "df.info()"
   ]
  },
  {
   "cell_type": "markdown",
   "metadata": {},
   "source": [
    "* 1,223,009 data entries\n",
    "* 13 columns/attributes\n",
    "* Null value counts can be derived from the information above.\n",
    "* \"Manner of death\" contains the least values"
   ]
  },
  {
   "cell_type": "code",
   "execution_count": 7,
   "metadata": {},
   "outputs": [
    {
     "name": "stdout",
     "output_type": "stream",
     "text": [
      "\n",
      "Size of each variation of categories:\n",
      "Id: 1222997\n",
      "Name: 1130871\n",
      "Short description: 512440\n",
      "Gender: 21\n",
      "Country: 5962\n",
      "Occupation: 9314\n",
      "Birth year: 2173\n",
      "Death year: 2254\n",
      "Manner of death: 207\n",
      "Age of death: 131\n",
      "Associated Countries: 1900\n",
      "Associated Country Coordinates (Lat/Lon): 1900\n",
      "Associated Country Life Expectancy: 1619\n"
     ]
    }
   ],
   "source": [
    "#Print number of unique values of each column\n",
    "print(\"\\nSize of each variation of categories:\")\n",
    "for column in df:\n",
    "    print(column + \":\", df[column].unique().size)"
   ]
  },
  {
   "cell_type": "markdown",
   "metadata": {},
   "source": [
    "## Preprocessing"
   ]
  },
  {
   "cell_type": "markdown",
   "metadata": {},
   "source": [
    "#### Normalise Formats"
   ]
  },
  {
   "cell_type": "code",
   "execution_count": 8,
   "metadata": {},
   "outputs": [
    {
     "data": {
      "text/plain": [
       "Id                                           object\n",
       "Name                                         object\n",
       "Short description                            object\n",
       "Gender                                       object\n",
       "Country                                      object\n",
       "Occupation                                   object\n",
       "Birth year                                    int64\n",
       "Death year                                  float64\n",
       "Manner of death                              object\n",
       "Age of death                                float64\n",
       "Associated Countries                         object\n",
       "Associated Country Coordinates (Lat/Lon)     object\n",
       "Associated Country Life Expectancy           object\n",
       "dtype: object"
      ]
     },
     "execution_count": 8,
     "metadata": {},
     "output_type": "execute_result"
    }
   ],
   "source": [
    "df.dtypes"
   ]
  },
  {
   "cell_type": "code",
   "execution_count": 9,
   "metadata": {},
   "outputs": [
    {
     "data": {
      "text/html": [
       "<div>\n",
       "<style scoped>\n",
       "    .dataframe tbody tr th:only-of-type {\n",
       "        vertical-align: middle;\n",
       "    }\n",
       "\n",
       "    .dataframe tbody tr th {\n",
       "        vertical-align: top;\n",
       "    }\n",
       "\n",
       "    .dataframe thead th {\n",
       "        text-align: right;\n",
       "    }\n",
       "</style>\n",
       "<table border=\"1\" class=\"dataframe\">\n",
       "  <thead>\n",
       "    <tr style=\"text-align: right;\">\n",
       "      <th></th>\n",
       "      <th>Id</th>\n",
       "      <th>Name</th>\n",
       "      <th>Short description</th>\n",
       "      <th>Gender</th>\n",
       "      <th>Country</th>\n",
       "      <th>Occupation</th>\n",
       "      <th>Birth year</th>\n",
       "      <th>Death year</th>\n",
       "      <th>Manner of death</th>\n",
       "      <th>Age of death</th>\n",
       "      <th>Associated Countries</th>\n",
       "      <th>Associated Country Coordinates (Lat/Lon)</th>\n",
       "      <th>Associated Country Life Expectancy</th>\n",
       "    </tr>\n",
       "  </thead>\n",
       "  <tbody>\n",
       "    <tr>\n",
       "      <th>0</th>\n",
       "      <td>Q23</td>\n",
       "      <td>George Washington</td>\n",
       "      <td>1st president of the United States (1732–1799)</td>\n",
       "      <td>Male</td>\n",
       "      <td>United States of America; Kingdom of Great Bri...</td>\n",
       "      <td>Politician</td>\n",
       "      <td>1732</td>\n",
       "      <td>1799.0</td>\n",
       "      <td>natural causes</td>\n",
       "      <td>67.0</td>\n",
       "      <td>['United Kingdom', 'United States']</td>\n",
       "      <td>[(55.378051, -3.435973), (37.09024, -95.712891)]</td>\n",
       "      <td>[81.3, 78.5]</td>\n",
       "    </tr>\n",
       "  </tbody>\n",
       "</table>\n",
       "</div>"
      ],
      "text/plain": [
       "    Id               Name                               Short description  \\\n",
       "0  Q23  George Washington  1st president of the United States (1732–1799)   \n",
       "\n",
       "  Gender                                            Country  Occupation  \\\n",
       "0   Male  United States of America; Kingdom of Great Bri...  Politician   \n",
       "\n",
       "   Birth year  Death year Manner of death  Age of death  \\\n",
       "0        1732      1799.0  natural causes          67.0   \n",
       "\n",
       "                  Associated Countries  \\\n",
       "0  ['United Kingdom', 'United States']   \n",
       "\n",
       "           Associated Country Coordinates (Lat/Lon)  \\\n",
       "0  [(55.378051, -3.435973), (37.09024, -95.712891)]   \n",
       "\n",
       "  Associated Country Life Expectancy  \n",
       "0                       [81.3, 78.5]  "
      ]
     },
     "execution_count": 9,
     "metadata": {},
     "output_type": "execute_result"
    }
   ],
   "source": [
    "df.head(1)"
   ]
  },
  {
   "cell_type": "code",
   "execution_count": 20,
   "metadata": {},
   "outputs": [
    {
     "data": {
      "text/plain": [
       "Id                                          object\n",
       "Name                                        object\n",
       "Short description                           object\n",
       "Gender                                      object\n",
       "Country                                     object\n",
       "Occupation                                  object\n",
       "Birth year                                   int32\n",
       "Death year                                   int32\n",
       "Manner of death                             object\n",
       "Age of death                                 int32\n",
       "Associated Countries                        object\n",
       "Associated Country Coordinates (Lat/Lon)    object\n",
       "Associated Country Life Expectancy          object\n",
       "dtype: object"
      ]
     },
     "execution_count": 20,
     "metadata": {},
     "output_type": "execute_result"
    }
   ],
   "source": [
    "#fill empty values with 0 to convert data type\n",
    "df[\"Death year\"] = df[\"Death year\"].fillna(0)\n",
    "df[\"Age of death\"] = df[\"Age of death\"].fillna(0)\n",
    "#convert numerical values to int32\n",
    "df[\"Death year\"] = df[\"Death year\"].astype('int32')\n",
    "df[\"Birth year\"] = df[\"Birth year\"].astype('int32')\n",
    "df[\"Age of death\"] = df[\"Age of death\"].astype('int32')\n",
    "df.dtypes"
   ]
  },
  {
   "cell_type": "markdown",
   "metadata": {},
   "source": [
    "#### Remove duplicates"
   ]
  },
  {
   "cell_type": "code",
   "execution_count": 24,
   "metadata": {},
   "outputs": [
    {
     "name": "stdout",
     "output_type": "stream",
     "text": [
      "Dataframe duplicates:  2\n",
      "Id duplicates:  12\n",
      "Name duplicates:  92138\n",
      "Short description duplicates:  710569\n",
      "Gender duplicates:  1222988\n",
      "Country duplicates:  1217047\n",
      "Occupation duplicates:  1213695\n",
      "Birth year duplicates:  1220836\n",
      "Death year duplicates:  1220755\n",
      "Manner of death duplicates:  1222802\n",
      "Age of death duplicates:  1222879\n",
      "Associated Countries duplicates:  1221109\n",
      "Associated Country Coordinates (Lat/Lon) duplicates:  1221109\n",
      "Associated Country Life Expectancy duplicates:  1221390\n"
     ]
    }
   ],
   "source": [
    "print(\"Dataframe duplicates: \", df.duplicated().sum())\n",
    "\n",
    "for column in df:\n",
    "    print(column, \"duplicates: \", df[column].duplicated().sum())"
   ]
  },
  {
   "cell_type": "code",
   "execution_count": 27,
   "metadata": {},
   "outputs": [
    {
     "name": "stdout",
     "output_type": "stream",
     "text": [
      "Dataframe duplicates:  0\n",
      "Id duplicates:  0\n",
      "Name duplicates:  92126\n",
      "Short description duplicates:  710561\n",
      "Gender duplicates:  1222976\n",
      "Country duplicates:  1217035\n",
      "Occupation duplicates:  1213683\n",
      "Birth year duplicates:  1220824\n",
      "Death year duplicates:  1220743\n",
      "Manner of death duplicates:  1222790\n",
      "Age of death duplicates:  1222867\n",
      "Associated Countries duplicates:  1221097\n",
      "Associated Country Coordinates (Lat/Lon) duplicates:  1221097\n",
      "Associated Country Life Expectancy duplicates:  1221378\n"
     ]
    }
   ],
   "source": [
    "df.drop_duplicates(subset=[\"Id\"], inplace=True)\n",
    "\n",
    "print(\"Dataframe duplicates: \", df.duplicated().sum())\n",
    "\n",
    "for column in df:\n",
    "    print(column, \"duplicates: \", df[column].duplicated().sum())"
   ]
  },
  {
   "cell_type": "markdown",
   "metadata": {},
   "source": [
    "#### Remove Redundant Columns"
   ]
  },
  {
   "cell_type": "code",
   "execution_count": null,
   "metadata": {},
   "outputs": [],
   "source": []
  },
  {
   "cell_type": "markdown",
   "metadata": {},
   "source": [
    "## Visualisation"
   ]
  },
  {
   "cell_type": "code",
   "execution_count": 38,
   "metadata": {},
   "outputs": [
    {
     "data": {
      "text/plain": [
       "Text(0, 0.5, 'Number of People')"
      ]
     },
     "execution_count": 38,
     "metadata": {},
     "output_type": "execute_result"
    },
    {
     "data": {
      "image/png": "[encoded data removed]",
      "text/plain": [
       "<Figure size 640x480 with 1 Axes>"
      ]
     },
     "metadata": {},
     "output_type": "display_data"
    }
   ],
   "source": [
    "plt.title(\"Distribution of Life Expectancies\")\n",
    "plt.plot(df[\"Age of death\"].value_counts().sort_index())\n",
    "plt.xlabel(\"Age\")\n",
    "plt.ylabel(\"Number of People\")"
   ]
  },
  {
   "cell_type": "code",
   "execution_count": 48,
   "metadata": {},
   "outputs": [
    {
     "name": "stdout",
     "output_type": "stream",
     "text": [
      "['Politician' 'Artist' 'Egyptologist' ... 'Highwayman; manual worker'\n",
      " 'Director; scout leader' 'Tailor; model']\n"
     ]
    },
    {
     "ename": "KeyError",
     "evalue": "'Politician'",
     "output_type": "error",
     "traceback": [
      "\u001b[1;31m---------------------------------------------------------------------------\u001b[0m",
      "\u001b[1;31mKeyError\u001b[0m                                  Traceback (most recent call last)",
      "\u001b[1;32mc:\\Users\\James\\anaconda3\\lib\\site-packages\\pandas\\core\\indexes\\base.py\u001b[0m in \u001b[0;36mget_loc\u001b[1;34m(self, key, method, tolerance)\u001b[0m\n\u001b[0;32m   3628\u001b[0m             \u001b[1;32mtry\u001b[0m\u001b[1;33m:\u001b[0m\u001b[1;33m\u001b[0m\u001b[1;33m\u001b[0m\u001b[0m\n\u001b[1;32m-> 3629\u001b[1;33m                 \u001b[1;32mreturn\u001b[0m \u001b[0mself\u001b[0m\u001b[1;33m.\u001b[0m\u001b[0m_engine\u001b[0m\u001b[1;33m.\u001b[0m\u001b[0mget_loc\u001b[0m\u001b[1;33m(\u001b[0m\u001b[0mcasted_key\u001b[0m\u001b[1;33m)\u001b[0m\u001b[1;33m\u001b[0m\u001b[1;33m\u001b[0m\u001b[0m\n\u001b[0m\u001b[0;32m   3630\u001b[0m             \u001b[1;32mexcept\u001b[0m \u001b[0mKeyError\u001b[0m \u001b[1;32mas\u001b[0m \u001b[0merr\u001b[0m\u001b[1;33m:\u001b[0m\u001b[1;33m\u001b[0m\u001b[1;33m\u001b[0m\u001b[0m\n",
      "\u001b[1;32mc:\\Users\\James\\anaconda3\\lib\\site-packages\\pandas\\_libs\\index.pyx\u001b[0m in \u001b[0;36mpandas._libs.index.IndexEngine.get_loc\u001b[1;34m()\u001b[0m\n",
      "\u001b[1;32mc:\\Users\\James\\anaconda3\\lib\\site-packages\\pandas\\_libs\\index.pyx\u001b[0m in \u001b[0;36mpandas._libs.index.IndexEngine.get_loc\u001b[1;34m()\u001b[0m\n",
      "\u001b[1;32mpandas\\_libs\\index_class_helper.pxi\u001b[0m in \u001b[0;36mpandas._libs.index.Int64Engine._check_type\u001b[1;34m()\u001b[0m\n",
      "\u001b[1;31mKeyError\u001b[0m: 'Politician'",
      "\nThe above exception was the direct cause of the following exception:\n",
      "\u001b[1;31mKeyError\u001b[0m                                  Traceback (most recent call last)",
      "\u001b[1;32m~\\AppData\\Local\\Temp\\ipykernel_24352\\1941151551.py\u001b[0m in \u001b[0;36m<module>\u001b[1;34m\u001b[0m\n\u001b[0;32m      1\u001b[0m \u001b[0mprint\u001b[0m\u001b[1;33m(\u001b[0m\u001b[0mdf\u001b[0m\u001b[1;33m[\u001b[0m\u001b[1;34m\"Occupation\"\u001b[0m\u001b[1;33m]\u001b[0m\u001b[1;33m.\u001b[0m\u001b[0munique\u001b[0m\u001b[1;33m(\u001b[0m\u001b[1;33m)\u001b[0m\u001b[1;33m)\u001b[0m\u001b[1;33m\u001b[0m\u001b[1;33m\u001b[0m\u001b[0m\n\u001b[0;32m      2\u001b[0m \u001b[1;32mfor\u001b[0m \u001b[0mtitles\u001b[0m \u001b[1;32min\u001b[0m \u001b[0mdf\u001b[0m\u001b[1;33m[\u001b[0m\u001b[1;34m\"Occupation\"\u001b[0m\u001b[1;33m]\u001b[0m\u001b[1;33m:\u001b[0m\u001b[1;33m\u001b[0m\u001b[1;33m\u001b[0m\u001b[0m\n\u001b[1;32m----> 3\u001b[1;33m     \u001b[0mprint\u001b[0m\u001b[1;33m(\u001b[0m\u001b[0mtitles\u001b[0m\u001b[1;33m,\u001b[0m \u001b[1;34m\"count: \"\u001b[0m\u001b[1;33m,\u001b[0m \u001b[0mdf\u001b[0m\u001b[1;33m[\u001b[0m\u001b[1;34m\"Occupation\"\u001b[0m\u001b[1;33m]\u001b[0m\u001b[1;33m[\u001b[0m\u001b[0mtitles\u001b[0m\u001b[1;33m]\u001b[0m\u001b[1;33m.\u001b[0m\u001b[0msize\u001b[0m\u001b[1;33m)\u001b[0m\u001b[1;33m\u001b[0m\u001b[1;33m\u001b[0m\u001b[0m\n\u001b[0m",
      "\u001b[1;32mc:\\Users\\James\\anaconda3\\lib\\site-packages\\pandas\\core\\series.py\u001b[0m in \u001b[0;36m__getitem__\u001b[1;34m(self, key)\u001b[0m\n\u001b[0;32m    956\u001b[0m \u001b[1;33m\u001b[0m\u001b[0m\n\u001b[0;32m    957\u001b[0m         \u001b[1;32melif\u001b[0m \u001b[0mkey_is_scalar\u001b[0m\u001b[1;33m:\u001b[0m\u001b[1;33m\u001b[0m\u001b[1;33m\u001b[0m\u001b[0m\n\u001b[1;32m--> 958\u001b[1;33m             \u001b[1;32mreturn\u001b[0m \u001b[0mself\u001b[0m\u001b[1;33m.\u001b[0m\u001b[0m_get_value\u001b[0m\u001b[1;33m(\u001b[0m\u001b[0mkey\u001b[0m\u001b[1;33m)\u001b[0m\u001b[1;33m\u001b[0m\u001b[1;33m\u001b[0m\u001b[0m\n\u001b[0m\u001b[0;32m    959\u001b[0m \u001b[1;33m\u001b[0m\u001b[0m\n\u001b[0;32m    960\u001b[0m         \u001b[1;32mif\u001b[0m \u001b[0mis_hashable\u001b[0m\u001b[1;33m(\u001b[0m\u001b[0mkey\u001b[0m\u001b[1;33m)\u001b[0m\u001b[1;33m:\u001b[0m\u001b[1;33m\u001b[0m\u001b[1;33m\u001b[0m\u001b[0m\n",
      "\u001b[1;32mc:\\Users\\James\\anaconda3\\lib\\site-packages\\pandas\\core\\series.py\u001b[0m in \u001b[0;36m_get_value\u001b[1;34m(self, label, takeable)\u001b[0m\n\u001b[0;32m   1067\u001b[0m \u001b[1;33m\u001b[0m\u001b[0m\n\u001b[0;32m   1068\u001b[0m         \u001b[1;31m# Similar to Index.get_value, but we do not fall back to positional\u001b[0m\u001b[1;33m\u001b[0m\u001b[1;33m\u001b[0m\u001b[0m\n\u001b[1;32m-> 1069\u001b[1;33m         \u001b[0mloc\u001b[0m \u001b[1;33m=\u001b[0m \u001b[0mself\u001b[0m\u001b[1;33m.\u001b[0m\u001b[0mindex\u001b[0m\u001b[1;33m.\u001b[0m\u001b[0mget_loc\u001b[0m\u001b[1;33m(\u001b[0m\u001b[0mlabel\u001b[0m\u001b[1;33m)\u001b[0m\u001b[1;33m\u001b[0m\u001b[1;33m\u001b[0m\u001b[0m\n\u001b[0m\u001b[0;32m   1070\u001b[0m         \u001b[1;32mreturn\u001b[0m \u001b[0mself\u001b[0m\u001b[1;33m.\u001b[0m\u001b[0mindex\u001b[0m\u001b[1;33m.\u001b[0m\u001b[0m_get_values_for_loc\u001b[0m\u001b[1;33m(\u001b[0m\u001b[0mself\u001b[0m\u001b[1;33m,\u001b[0m \u001b[0mloc\u001b[0m\u001b[1;33m,\u001b[0m \u001b[0mlabel\u001b[0m\u001b[1;33m)\u001b[0m\u001b[1;33m\u001b[0m\u001b[1;33m\u001b[0m\u001b[0m\n\u001b[0;32m   1071\u001b[0m \u001b[1;33m\u001b[0m\u001b[0m\n",
      "\u001b[1;32mc:\\Users\\James\\anaconda3\\lib\\site-packages\\pandas\\core\\indexes\\base.py\u001b[0m in \u001b[0;36mget_loc\u001b[1;34m(self, key, method, tolerance)\u001b[0m\n\u001b[0;32m   3629\u001b[0m                 \u001b[1;32mreturn\u001b[0m \u001b[0mself\u001b[0m\u001b[1;33m.\u001b[0m\u001b[0m_engine\u001b[0m\u001b[1;33m.\u001b[0m\u001b[0mget_loc\u001b[0m\u001b[1;33m(\u001b[0m\u001b[0mcasted_key\u001b[0m\u001b[1;33m)\u001b[0m\u001b[1;33m\u001b[0m\u001b[1;33m\u001b[0m\u001b[0m\n\u001b[0;32m   3630\u001b[0m             \u001b[1;32mexcept\u001b[0m \u001b[0mKeyError\u001b[0m \u001b[1;32mas\u001b[0m \u001b[0merr\u001b[0m\u001b[1;33m:\u001b[0m\u001b[1;33m\u001b[0m\u001b[1;33m\u001b[0m\u001b[0m\n\u001b[1;32m-> 3631\u001b[1;33m                 \u001b[1;32mraise\u001b[0m \u001b[0mKeyError\u001b[0m\u001b[1;33m(\u001b[0m\u001b[0mkey\u001b[0m\u001b[1;33m)\u001b[0m \u001b[1;32mfrom\u001b[0m \u001b[0merr\u001b[0m\u001b[1;33m\u001b[0m\u001b[1;33m\u001b[0m\u001b[0m\n\u001b[0m\u001b[0;32m   3632\u001b[0m             \u001b[1;32mexcept\u001b[0m \u001b[0mTypeError\u001b[0m\u001b[1;33m:\u001b[0m\u001b[1;33m\u001b[0m\u001b[1;33m\u001b[0m\u001b[0m\n\u001b[0;32m   3633\u001b[0m                 \u001b[1;31m# If we have a listlike key, _check_indexing_error will raise\u001b[0m\u001b[1;33m\u001b[0m\u001b[1;33m\u001b[0m\u001b[0m\n",
      "\u001b[1;31mKeyError\u001b[0m: 'Politician'"
     ]
    }
   ],
   "source": [
    "print(df[\"Occupation\"].unique())\n",
    "for titles in df[\"Occupation\"]:\n",
    "    print(titles, \"count: \", df[\"Occupation\"][titles].size)"
   ]
  },
  {
   "cell_type": "code",
   "execution_count": null,
   "metadata": {},
   "outputs": [],
   "source": []
  }
 ],
 "metadata": {
  "kernelspec": {
   "display_name": "base",
   "language": "python",
   "name": "python3"
  },
  "language_info": {
   "codemirror_mode": {
    "name": "ipython",
    "version": 3
   },
   "file_extension": ".py",
   "mimetype": "text/x-python",
   "name": "python",
   "nbconvert_exporter": "python",
   "pygments_lexer": "ipython3",
   "version": "3.9.13"
  },
  "orig_nbformat": 4
 },
 "nbformat": 4,
 "nbformat_minor": 2
}
